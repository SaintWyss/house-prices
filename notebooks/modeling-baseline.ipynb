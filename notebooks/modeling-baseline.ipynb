{
 "cells": [
  {
   "cell_type": "code",
   "execution_count": 1,
   "id": "7a24a1a0",
   "metadata": {},
   "outputs": [
    {
     "name": "stdout",
     "output_type": "stream",
     "text": [
      "train_clean: (1458, 81) | test_clean: (1459, 80)\n",
      "X columns: 80 | y_log: (1458,)\n",
      "[ok] métrica: RMSE en log (≈ RMSLE) | CV=5, shuffle, seed=42\n"
     ]
    }
   ],
   "source": [
    "from pathlib import Path\n",
    "import pandas as pd\n",
    "import numpy as np\n",
    "\n",
    "# Rutas\n",
    "CWD = Path.cwd().resolve()\n",
    "PROJECT_ROOT = CWD.parent if CWD.name == \"notebooks\" else CWD\n",
    "DATA_PROCESSED = PROJECT_ROOT / \"data\" / \"processed\"\n",
    "\n",
    "# Cargar datasets limpios\n",
    "train_clean = pd.read_csv(DATA_PROCESSED / \"train_clean.csv\", keep_default_na=False)\n",
    "test_clean  = pd.read_csv(DATA_PROCESSED / \"test_clean.csv\", keep_default_na=False)\n",
    "\n",
    "print(\"train_clean:\", train_clean.shape, \"| test_clean:\", test_clean.shape)\n",
    "assert \"SalePrice\" in train_clean.columns and \"SalePrice\" not in test_clean.columns\n",
    "\n",
    "# Definir X / y (trabajaremos en log para la métrica)\n",
    "y = train_clean[\"SalePrice\"].astype(float)\n",
    "y_log = np.log1p(y)\n",
    "X = train_clean.drop(columns=[\"SalePrice\"])\n",
    "\n",
    "print(\"X columns:\", X.shape[1], \"| y_log:\", y_log.shape)\n",
    "\n",
    "# Métrica y CV (guardamos criterios)\n",
    "from sklearn.model_selection import KFold\n",
    "from sklearn.metrics import mean_squared_error\n",
    "\n",
    "CV = KFold(n_splits=5, shuffle=True, random_state=42)\n",
    "def rmse_log(y_true_log, y_pred_log):\n",
    "    return mean_squared_error(y_true_log, y_pred_log, squared=False)\n",
    "\n",
    "print(\"[ok] métrica: RMSE en log (≈ RMSLE) | CV=5, shuffle, seed=42\")\n"
   ]
  },
  {
   "cell_type": "code",
   "execution_count": 2,
   "id": "cbd98a33",
   "metadata": {},
   "outputs": [
    {
     "name": "stdout",
     "output_type": "stream",
     "text": [
      "#num: 37 | #ord_text: 5 | #nom: 38\n",
      "ord_text_cols: ['ExterQual', 'BsmtQual', 'KitchenQual', 'FireplaceQu', 'GarageFinish']\n",
      "nominal sample: ['Alley', 'BldgType', 'BsmtCond', 'BsmtExposure', 'BsmtFinType1', 'BsmtFinType2', 'CentralAir', 'Condition1', 'Condition2', 'Electrical']\n"
     ]
    }
   ],
   "source": [
    "# Columnas numéricas (ya imputadas/transformadas en el EDA)\n",
    "num_cols = X.select_dtypes(include=[\"number\"]).columns.tolist()\n",
    "\n",
    "# Candidatas ordinales textuales (presentes en este dataset)\n",
    "# (Mantenemos OverallQual/OverallCond como numéricas: ya son enteros ordinales)\n",
    "ord_text_candidates = [\"ExterQual\", \"BsmtQual\", \"KitchenQual\", \"FireplaceQu\", \"GarageFinish\"]\n",
    "ord_text_cols = [c for c in ord_text_candidates if c in X.columns]\n",
    "\n",
    "# Mapeos de orden (incluye 'None_' al final para coherencia con imputación)\n",
    "ORD_MAP = {\n",
    "    \"ExterQual\":   [\"Ex\", \"Gd\", \"TA\", \"Fa\", \"Po\", \"None_\"],\n",
    "    \"BsmtQual\":    [\"Ex\", \"Gd\", \"TA\", \"Fa\", \"Po\", \"None_\"],\n",
    "    \"KitchenQual\": [\"Ex\", \"Gd\", \"TA\", \"Fa\", \"Po\", \"None_\"],\n",
    "    \"FireplaceQu\": [\"Ex\", \"Gd\", \"TA\", \"Fa\", \"Po\", \"None_\"],\n",
    "    \"GarageFinish\":[\"Fin\",\"RFn\",\"Unf\",\"None_\"],\n",
    "}\n",
    "# Filtrar el mapping solo a columnas presentes\n",
    "ORD_MAP = {c: [v for v in vals if (c in ord_text_cols)] for c, vals in ORD_MAP.items()}\n",
    "\n",
    "# Nominales = objeto - ordinales_texto\n",
    "obj_cols = X.select_dtypes(include=[\"object\"]).columns.tolist()\n",
    "cat_nom_cols = sorted(list(set(obj_cols) - set(ord_text_cols)))\n",
    "\n",
    "# Chequeos\n",
    "overlap1 = set(num_cols) & set(ord_text_cols)\n",
    "overlap2 = set(ord_text_cols) & set(cat_nom_cols)\n",
    "assert not overlap1 and not overlap2, \"Solapamiento inesperado entre grupos\"\n",
    "\n",
    "print(f\"#num: {len(num_cols)} | #ord_text: {len(ord_text_cols)} | #nom: {len(cat_nom_cols)}\")\n",
    "print(\"ord_text_cols:\", ord_text_cols)\n",
    "print(\"nominal sample:\", cat_nom_cols[:10])\n"
   ]
  },
  {
   "cell_type": "code",
   "execution_count": 3,
   "id": "002a81c7",
   "metadata": {},
   "outputs": [
    {
     "name": "stdout",
     "output_type": "stream",
     "text": [
      "[ok] preprocess listo\n"
     ]
    }
   ],
   "source": [
    "# --- Preprocesador: ColumnTransformer (ordinal + one-hot + num) ---\n",
    "from sklearn.compose import ColumnTransformer\n",
    "from sklearn.preprocessing import OrdinalEncoder, OneHotEncoder, StandardScaler\n",
    "from inspect import signature\n",
    "\n",
    "# Categorías en el orden correcto para cada columna ordinal (mismos índices que ord_text_cols)\n",
    "ord_categories = []\n",
    "for col in ord_text_cols:\n",
    "    ord_categories.append(ORD_MAP[col])\n",
    "\n",
    "# OneHotEncoder compatible con cualquier versión de sklearn\n",
    "if \"sparse_output\" in signature(OneHotEncoder).parameters:\n",
    "    ohe = OneHotEncoder(handle_unknown=\"ignore\", sparse_output=False)\n",
    "else:\n",
    "    ohe = OneHotEncoder(handle_unknown=\"ignore\", sparse=False)\n",
    "\n",
    "# Escalado opcional de numéricas (recomendado para lineales)\n",
    "SCALE_NUM = True\n",
    "num_transform = StandardScaler() if SCALE_NUM else \"passthrough\"\n",
    "\n",
    "preprocess = ColumnTransformer(\n",
    "    transformers=[\n",
    "        (\"ord\", OrdinalEncoder(\n",
    "            categories=ord_categories,\n",
    "            handle_unknown=\"use_encoded_value\",\n",
    "            unknown_value=-1\n",
    "        ), ord_text_cols),\n",
    "        (\"nom\", ohe, cat_nom_cols),\n",
    "        (\"num\", num_transform, num_cols),\n",
    "    ],\n",
    "    remainder=\"drop\",\n",
    "    n_jobs=None,\n",
    ")\n",
    "\n",
    "print(\"[ok] preprocess listo\")\n"
   ]
  },
  {
   "cell_type": "code",
   "execution_count": 4,
   "id": "94297101",
   "metadata": {},
   "outputs": [
    {
     "name": "stdout",
     "output_type": "stream",
     "text": [
      "[Linear] RMSE_log CV5: 0.1350 ± 0.0186\n"
     ]
    }
   ],
   "source": [
    "from sklearn.pipeline import Pipeline\n",
    "from sklearn.linear_model import LinearRegression\n",
    "from sklearn.model_selection import cross_val_score\n",
    "import numpy as np\n",
    "import pandas as pd\n",
    "\n",
    "pipe_lr = Pipeline(steps=[\n",
    "    (\"prep\", preprocess),\n",
    "    (\"model\", LinearRegression())\n",
    "])\n",
    "\n",
    "scores = cross_val_score(pipe_lr, X, y_log,\n",
    "                         scoring=\"neg_root_mean_squared_error\",\n",
    "                         cv=CV, n_jobs=None)\n",
    "rmse_mean = -scores.mean()\n",
    "rmse_std  =  scores.std()\n",
    "print(f\"[Linear] RMSE_log CV5: {rmse_mean:.4f} ± {rmse_std:.4f}\")\n"
   ]
  },
  {
   "cell_type": "code",
   "execution_count": 5,
   "id": "6b45c049",
   "metadata": {},
   "outputs": [
    {
     "data": {
      "application/vnd.microsoft.datawrangler.viewer.v0+json": {
       "columns": [
        {
         "name": "index",
         "rawType": "int64",
         "type": "integer"
        },
        {
         "name": "modelo",
         "rawType": "object",
         "type": "string"
        },
        {
         "name": "rmse_log_mean",
         "rawType": "float64",
         "type": "float"
        },
        {
         "name": "rmse_log_std",
         "rawType": "float64",
         "type": "float"
        }
       ],
       "ref": "4e663238-b07f-467c-8fb9-1f433a4b1ad8",
       "rows": [
        [
         "2",
         "ElasticNetCV",
         "0.11207245054497705",
         "0.0069430207362930745"
        ],
        [
         "1",
         "LassoCV",
         "0.11273930810269772",
         "0.007374203726917119"
        ],
        [
         "0",
         "RidgeCV",
         "0.11314633994117793",
         "0.007695939420668351"
        ]
       ],
       "shape": {
        "columns": 3,
        "rows": 3
       }
      },
      "text/html": [
       "<div>\n",
       "<style scoped>\n",
       "    .dataframe tbody tr th:only-of-type {\n",
       "        vertical-align: middle;\n",
       "    }\n",
       "\n",
       "    .dataframe tbody tr th {\n",
       "        vertical-align: top;\n",
       "    }\n",
       "\n",
       "    .dataframe thead th {\n",
       "        text-align: right;\n",
       "    }\n",
       "</style>\n",
       "<table border=\"1\" class=\"dataframe\">\n",
       "  <thead>\n",
       "    <tr style=\"text-align: right;\">\n",
       "      <th></th>\n",
       "      <th>modelo</th>\n",
       "      <th>rmse_log_mean</th>\n",
       "      <th>rmse_log_std</th>\n",
       "    </tr>\n",
       "  </thead>\n",
       "  <tbody>\n",
       "    <tr>\n",
       "      <th>2</th>\n",
       "      <td>ElasticNetCV</td>\n",
       "      <td>0.112072</td>\n",
       "      <td>0.006943</td>\n",
       "    </tr>\n",
       "    <tr>\n",
       "      <th>1</th>\n",
       "      <td>LassoCV</td>\n",
       "      <td>0.112739</td>\n",
       "      <td>0.007374</td>\n",
       "    </tr>\n",
       "    <tr>\n",
       "      <th>0</th>\n",
       "      <td>RidgeCV</td>\n",
       "      <td>0.113146</td>\n",
       "      <td>0.007696</td>\n",
       "    </tr>\n",
       "  </tbody>\n",
       "</table>\n",
       "</div>"
      ],
      "text/plain": [
       "         modelo  rmse_log_mean  rmse_log_std\n",
       "2  ElasticNetCV       0.112072      0.006943\n",
       "1       LassoCV       0.112739      0.007374\n",
       "0       RidgeCV       0.113146      0.007696"
      ]
     },
     "metadata": {},
     "output_type": "display_data"
    }
   ],
   "source": [
    "# === Snippet C — Baselines 2–4: RidgeCV / LassoCV / ElasticNetCV ===\n",
    "from sklearn.linear_model import RidgeCV, LassoCV, ElasticNetCV\n",
    "from sklearn.pipeline import Pipeline\n",
    "from sklearn.model_selection import cross_val_score\n",
    "import numpy as np\n",
    "import pandas as pd\n",
    "\n",
    "results = []\n",
    "\n",
    "# 1) RidgeCV (selección de alpha interna por GCV si cv=None)\n",
    "ridge_alphas = np.logspace(-3, 3, 13)\n",
    "pipe_ridge = Pipeline([\n",
    "    (\"prep\", preprocess),\n",
    "    (\"model\", RidgeCV(alphas=ridge_alphas))  # <— sin store_cv_values\n",
    "])\n",
    "scores = cross_val_score(pipe_ridge, X, y_log, scoring=\"neg_root_mean_squared_error\", cv=CV)\n",
    "results.append((\"RidgeCV\", -scores.mean(), scores.std()))\n",
    "\n",
    "# 2) LassoCV (CV interna para elegir alpha)\n",
    "lasso_alphas = np.logspace(-4, 1, 12)\n",
    "pipe_lasso = Pipeline([\n",
    "    (\"prep\", preprocess),\n",
    "    (\"model\", LassoCV(alphas=lasso_alphas, max_iter=10000, n_jobs=None))\n",
    "])\n",
    "scores = cross_val_score(pipe_lasso, X, y_log, scoring=\"neg_root_mean_squared_error\", cv=CV)\n",
    "results.append((\"LassoCV\", -scores.mean(), scores.std()))\n",
    "\n",
    "# 3) ElasticNetCV (CV interna para alpha y l1_ratio)\n",
    "l1_grid = [0.15, 0.3, 0.5, 0.7, 0.9]\n",
    "en_alphas = np.logspace(-4, 1, 12)\n",
    "pipe_en = Pipeline([\n",
    "    (\"prep\", preprocess),\n",
    "    (\"model\", ElasticNetCV(alphas=en_alphas, l1_ratio=l1_grid, max_iter=10000, n_jobs=None))\n",
    "])\n",
    "scores = cross_val_score(pipe_en, X, y_log, scoring=\"neg_root_mean_squared_error\", cv=CV)\n",
    "results.append((\"ElasticNetCV\", -scores.mean(), scores.std()))\n",
    "\n",
    "res_df = pd.DataFrame(results, columns=[\"modelo\", \"rmse_log_mean\", \"rmse_log_std\"]).sort_values(\"rmse_log_mean\")\n",
    "display(res_df)\n"
   ]
  },
  {
   "cell_type": "code",
   "execution_count": 6,
   "id": "9092c26f",
   "metadata": {},
   "outputs": [
    {
     "name": "stdout",
     "output_type": "stream",
     "text": [
      "== Resumen CV (RMSE en log) ==\n"
     ]
    },
    {
     "data": {
      "application/vnd.microsoft.datawrangler.viewer.v0+json": {
       "columns": [
        {
         "name": "index",
         "rawType": "int64",
         "type": "integer"
        },
        {
         "name": "modelo",
         "rawType": "object",
         "type": "string"
        },
        {
         "name": "rmse_log_mean",
         "rawType": "float64",
         "type": "float"
        },
        {
         "name": "rmse_log_std",
         "rawType": "float64",
         "type": "float"
        }
       ],
       "ref": "96ca2dcd-f311-4855-8862-ad7d564a7d79",
       "rows": [
        [
         "3",
         "ElasticNetCV",
         "0.11207245054497705",
         "0.0069430207362930745"
        ],
        [
         "2",
         "LassoCV",
         "0.11273930810269772",
         "0.007374203726917119"
        ],
        [
         "1",
         "RidgeCV",
         "0.11314633994117793",
         "0.007695939420668351"
        ],
        [
         "0",
         "LinearRegression",
         "0.13500278731186446",
         "0.018568671809526656"
        ]
       ],
       "shape": {
        "columns": 3,
        "rows": 4
       }
      },
      "text/html": [
       "<div>\n",
       "<style scoped>\n",
       "    .dataframe tbody tr th:only-of-type {\n",
       "        vertical-align: middle;\n",
       "    }\n",
       "\n",
       "    .dataframe tbody tr th {\n",
       "        vertical-align: top;\n",
       "    }\n",
       "\n",
       "    .dataframe thead th {\n",
       "        text-align: right;\n",
       "    }\n",
       "</style>\n",
       "<table border=\"1\" class=\"dataframe\">\n",
       "  <thead>\n",
       "    <tr style=\"text-align: right;\">\n",
       "      <th></th>\n",
       "      <th>modelo</th>\n",
       "      <th>rmse_log_mean</th>\n",
       "      <th>rmse_log_std</th>\n",
       "    </tr>\n",
       "  </thead>\n",
       "  <tbody>\n",
       "    <tr>\n",
       "      <th>3</th>\n",
       "      <td>ElasticNetCV</td>\n",
       "      <td>0.112072</td>\n",
       "      <td>0.006943</td>\n",
       "    </tr>\n",
       "    <tr>\n",
       "      <th>2</th>\n",
       "      <td>LassoCV</td>\n",
       "      <td>0.112739</td>\n",
       "      <td>0.007374</td>\n",
       "    </tr>\n",
       "    <tr>\n",
       "      <th>1</th>\n",
       "      <td>RidgeCV</td>\n",
       "      <td>0.113146</td>\n",
       "      <td>0.007696</td>\n",
       "    </tr>\n",
       "    <tr>\n",
       "      <th>0</th>\n",
       "      <td>LinearRegression</td>\n",
       "      <td>0.135003</td>\n",
       "      <td>0.018569</td>\n",
       "    </tr>\n",
       "  </tbody>\n",
       "</table>\n",
       "</div>"
      ],
      "text/plain": [
       "             modelo  rmse_log_mean  rmse_log_std\n",
       "3      ElasticNetCV       0.112072      0.006943\n",
       "2           LassoCV       0.112739      0.007374\n",
       "1           RidgeCV       0.113146      0.007696\n",
       "0  LinearRegression       0.135003      0.018569"
      ]
     },
     "metadata": {},
     "output_type": "display_data"
    },
    {
     "name": "stdout",
     "output_type": "stream",
     "text": [
      "[mejor provisional] ElasticNetCV\n"
     ]
    }
   ],
   "source": [
    "# Incluir el Linear en la tabla para ver todo junto\n",
    "all_rows = [(\"LinearRegression\", rmse_mean, rmse_std)]\n",
    "all_rows += results\n",
    "summary = pd.DataFrame(all_rows, columns=[\"modelo\", \"rmse_log_mean\", \"rmse_log_std\"]).sort_values(\"rmse_log_mean\")\n",
    "print(\"== Resumen CV (RMSE en log) ==\")\n",
    "display(summary)\n",
    "\n",
    "best_name = summary.iloc[0][\"modelo\"]\n",
    "print(f\"[mejor provisional] {best_name}\")\n"
   ]
  },
  {
   "cell_type": "code",
   "execution_count": 7,
   "id": "f494862f",
   "metadata": {},
   "outputs": [
    {
     "data": {
      "application/vnd.microsoft.datawrangler.viewer.v0+json": {
       "columns": [
        {
         "name": "index",
         "rawType": "int64",
         "type": "integer"
        },
        {
         "name": "modelo",
         "rawType": "object",
         "type": "string"
        },
        {
         "name": "rmse_log_mean",
         "rawType": "float64",
         "type": "float"
        },
        {
         "name": "rmse_log_std",
         "rawType": "float64",
         "type": "float"
        }
       ],
       "ref": "ecb0889e-27c0-42f0-a51e-20e1eda41666",
       "rows": [
        [
         "3",
         "ElasticNetCV",
         "0.11207245054497705",
         "0.0069430207362930745"
        ],
        [
         "2",
         "LassoCV",
         "0.11273930810269772",
         "0.007374203726917119"
        ],
        [
         "1",
         "RidgeCV",
         "0.11314633994117793",
         "0.007695939420668351"
        ],
        [
         "0",
         "LinearRegression",
         "0.13500278731186446",
         "0.018568671809526656"
        ]
       ],
       "shape": {
        "columns": 3,
        "rows": 4
       }
      },
      "text/html": [
       "<div>\n",
       "<style scoped>\n",
       "    .dataframe tbody tr th:only-of-type {\n",
       "        vertical-align: middle;\n",
       "    }\n",
       "\n",
       "    .dataframe tbody tr th {\n",
       "        vertical-align: top;\n",
       "    }\n",
       "\n",
       "    .dataframe thead th {\n",
       "        text-align: right;\n",
       "    }\n",
       "</style>\n",
       "<table border=\"1\" class=\"dataframe\">\n",
       "  <thead>\n",
       "    <tr style=\"text-align: right;\">\n",
       "      <th></th>\n",
       "      <th>modelo</th>\n",
       "      <th>rmse_log_mean</th>\n",
       "      <th>rmse_log_std</th>\n",
       "    </tr>\n",
       "  </thead>\n",
       "  <tbody>\n",
       "    <tr>\n",
       "      <th>3</th>\n",
       "      <td>ElasticNetCV</td>\n",
       "      <td>0.112072</td>\n",
       "      <td>0.006943</td>\n",
       "    </tr>\n",
       "    <tr>\n",
       "      <th>2</th>\n",
       "      <td>LassoCV</td>\n",
       "      <td>0.112739</td>\n",
       "      <td>0.007374</td>\n",
       "    </tr>\n",
       "    <tr>\n",
       "      <th>1</th>\n",
       "      <td>RidgeCV</td>\n",
       "      <td>0.113146</td>\n",
       "      <td>0.007696</td>\n",
       "    </tr>\n",
       "    <tr>\n",
       "      <th>0</th>\n",
       "      <td>LinearRegression</td>\n",
       "      <td>0.135003</td>\n",
       "      <td>0.018569</td>\n",
       "    </tr>\n",
       "  </tbody>\n",
       "</table>\n",
       "</div>"
      ],
      "text/plain": [
       "             modelo  rmse_log_mean  rmse_log_std\n",
       "3      ElasticNetCV       0.112072      0.006943\n",
       "2           LassoCV       0.112739      0.007374\n",
       "1           RidgeCV       0.113146      0.007696\n",
       "0  LinearRegression       0.135003      0.018569"
      ]
     },
     "metadata": {},
     "output_type": "display_data"
    },
    {
     "name": "stdout",
     "output_type": "stream",
     "text": [
      "[mejor] ElasticNetCV\n"
     ]
    }
   ],
   "source": [
    "# Re-evaluamos 4 baselines y elegimos el mejor por RMSE_log (más chico = mejor)\n",
    "from sklearn.pipeline import Pipeline\n",
    "from sklearn.model_selection import cross_val_score\n",
    "from sklearn.linear_model import LinearRegression, RidgeCV, LassoCV, ElasticNetCV\n",
    "import numpy as np, pandas as pd\n",
    "\n",
    "candidates = {\n",
    "    \"LinearRegression\": LinearRegression(),\n",
    "    \"RidgeCV\": RidgeCV(alphas=np.logspace(-3, 3, 13)),\n",
    "    \"LassoCV\": LassoCV(alphas=np.logspace(-4, 1, 12), max_iter=10000, n_jobs=None),\n",
    "    \"ElasticNetCV\": ElasticNetCV(alphas=np.logspace(-4, 1, 12), l1_ratio=[0.15,0.3,0.5,0.7,0.9], max_iter=10000, n_jobs=None),\n",
    "}\n",
    "\n",
    "rows = []\n",
    "for name, est in candidates.items():\n",
    "    pipe = Pipeline([(\"prep\", preprocess), (\"model\", est)])\n",
    "    scores = cross_val_score(pipe, X, y_log, scoring=\"neg_root_mean_squared_error\", cv=CV)\n",
    "    rows.append((name, -scores.mean(), scores.std()))\n",
    "res_df = pd.DataFrame(rows, columns=[\"modelo\",\"rmse_log_mean\",\"rmse_log_std\"]).sort_values(\"rmse_log_mean\")\n",
    "display(res_df)\n",
    "\n",
    "best_name = res_df.iloc[0][\"modelo\"]\n",
    "print(f\"[mejor] {best_name}\")\n",
    "best_est = candidates[best_name]\n"
   ]
  },
  {
   "cell_type": "code",
   "execution_count": 8,
   "id": "69db4aca",
   "metadata": {},
   "outputs": [
    {
     "name": "stdout",
     "output_type": "stream",
     "text": [
      "[ok] modelo entrenado y predicciones listas: (1459,)\n"
     ]
    }
   ],
   "source": [
    "# Fit full y predicción\n",
    "from sklearn.pipeline import Pipeline\n",
    "import numpy as np\n",
    "\n",
    "best_pipe = Pipeline([(\"prep\", preprocess), (\"model\", best_est)])\n",
    "best_pipe.fit(X, y_log)  # entrenamos en TODO el train (target en log)\n",
    "\n",
    "# Predicciones en log y vuelta a escala original\n",
    "X_test = test_clean.copy()\n",
    "y_pred_log = best_pipe.predict(X_test)\n",
    "y_pred = np.expm1(y_pred_log)\n",
    "\n",
    "# Seguridad: sin negativos ni NaN\n",
    "import numpy as np\n",
    "y_pred = np.clip(y_pred, a_min=1.0, a_max=None)\n",
    "assert not np.isnan(y_pred).any(), \"Hay NaN en predicciones\"\n",
    "\n",
    "print(\"[ok] modelo entrenado y predicciones listas:\", y_pred.shape)\n"
   ]
  },
  {
   "cell_type": "code",
   "execution_count": 9,
   "id": "24cd4c43",
   "metadata": {},
   "outputs": [
    {
     "name": "stdout",
     "output_type": "stream",
     "text": [
      "[save] /mnt/d/Data/0_Ordenado/LM/IA/fast-ia/proyectos/house-prices/submissions/submission_baseline.csv\n",
      "[save] /mnt/d/Data/0_Ordenado/LM/IA/fast-ia/proyectos/house-prices/submissions/submission_baseline_ElasticNetCV_20250910_113817.csv\n",
      "[check] filas: 1459 | cols: 2\n"
     ]
    },
    {
     "data": {
      "application/vnd.microsoft.datawrangler.viewer.v0+json": {
       "columns": [
        {
         "name": "index",
         "rawType": "int64",
         "type": "integer"
        },
        {
         "name": "Id",
         "rawType": "int64",
         "type": "integer"
        },
        {
         "name": "SalePrice",
         "rawType": "float64",
         "type": "float"
        }
       ],
       "ref": "f8c0b1a4-77a1-4786-bc05-37ffa0d120e4",
       "rows": [
        [
         "0",
         "1461",
         "118661.48519288172"
        ],
        [
         "1",
         "1462",
         "156405.5283617716"
        ],
        [
         "2",
         "1463",
         "178951.13683005067"
        ],
        [
         "3",
         "1464",
         "199153.3897954649"
        ],
        [
         "4",
         "1465",
         "197608.05391740435"
        ]
       ],
       "shape": {
        "columns": 2,
        "rows": 5
       }
      },
      "text/html": [
       "<div>\n",
       "<style scoped>\n",
       "    .dataframe tbody tr th:only-of-type {\n",
       "        vertical-align: middle;\n",
       "    }\n",
       "\n",
       "    .dataframe tbody tr th {\n",
       "        vertical-align: top;\n",
       "    }\n",
       "\n",
       "    .dataframe thead th {\n",
       "        text-align: right;\n",
       "    }\n",
       "</style>\n",
       "<table border=\"1\" class=\"dataframe\">\n",
       "  <thead>\n",
       "    <tr style=\"text-align: right;\">\n",
       "      <th></th>\n",
       "      <th>Id</th>\n",
       "      <th>SalePrice</th>\n",
       "    </tr>\n",
       "  </thead>\n",
       "  <tbody>\n",
       "    <tr>\n",
       "      <th>0</th>\n",
       "      <td>1461</td>\n",
       "      <td>118661.485193</td>\n",
       "    </tr>\n",
       "    <tr>\n",
       "      <th>1</th>\n",
       "      <td>1462</td>\n",
       "      <td>156405.528362</td>\n",
       "    </tr>\n",
       "    <tr>\n",
       "      <th>2</th>\n",
       "      <td>1463</td>\n",
       "      <td>178951.136830</td>\n",
       "    </tr>\n",
       "    <tr>\n",
       "      <th>3</th>\n",
       "      <td>1464</td>\n",
       "      <td>199153.389795</td>\n",
       "    </tr>\n",
       "    <tr>\n",
       "      <th>4</th>\n",
       "      <td>1465</td>\n",
       "      <td>197608.053917</td>\n",
       "    </tr>\n",
       "  </tbody>\n",
       "</table>\n",
       "</div>"
      ],
      "text/plain": [
       "     Id      SalePrice\n",
       "0  1461  118661.485193\n",
       "1  1462  156405.528362\n",
       "2  1463  178951.136830\n",
       "3  1464  199153.389795\n",
       "4  1465  197608.053917"
      ]
     },
     "metadata": {},
     "output_type": "display_data"
    },
    {
     "name": "stdout",
     "output_type": "stream",
     "text": [
      "[range] SalePrice min/max: 44542.192152338226 959914.0581070407\n"
     ]
    }
   ],
   "source": [
    "from pathlib import Path\n",
    "import pandas as pd\n",
    "from datetime import datetime\n",
    "\n",
    "# Carpeta de salidas\n",
    "CWD = Path.cwd().resolve()\n",
    "PROJECT_ROOT = CWD.parent if CWD.name == \"notebooks\" else CWD\n",
    "SUB_DIR = PROJECT_ROOT / \"submissions\"\n",
    "SUB_DIR.mkdir(parents=True, exist_ok=True)\n",
    "\n",
    "# DataFrame de envío (Id + SalePrice)\n",
    "assert \"Id\" in test_clean.columns, \"test_clean debe contener la columna Id\"\n",
    "submission = pd.DataFrame({\"Id\": test_clean[\"Id\"].values, \"SalePrice\": y_pred})\n",
    "\n",
    "# Guardar con nombre fijo y con timestamp\n",
    "stamp = datetime.now().strftime(\"%Y%m%d_%H%M%S\")\n",
    "sub_fixed = SUB_DIR / \"submission_baseline.csv\"\n",
    "sub_time  = SUB_DIR / f\"submission_baseline_{best_name}_{stamp}.csv\"\n",
    "submission.to_csv(sub_fixed, index=False)\n",
    "submission.to_csv(sub_time, index=False)\n",
    "\n",
    "# Verificación rápida\n",
    "print(f\"[save] {sub_fixed}\")\n",
    "print(f\"[save] {sub_time}\")\n",
    "print(\"[check] filas:\", submission.shape[0], \"| cols:\", submission.shape[1])\n",
    "display(submission.head(5))\n",
    "print(\"[range] SalePrice min/max:\", float(submission.SalePrice.min()), float(submission.SalePrice.max()))\n"
   ]
  },
  {
   "cell_type": "code",
   "execution_count": 10,
   "id": "56ac82a9",
   "metadata": {},
   "outputs": [
    {
     "name": "stdout",
     "output_type": "stream",
     "text": [
      "[save] /mnt/d/Data/0_Ordenado/LM/IA/fast-ia/proyectos/house-prices/models/baseline_ElasticNetCV.joblib\n",
      "[check] pred.shape: (3,)\n",
      "[check] sample pred (log): [11.68403848 11.96021385 12.09487366]\n"
     ]
    }
   ],
   "source": [
    "from pathlib import Path\n",
    "import joblib\n",
    "import numpy as np\n",
    "\n",
    "# Rutas\n",
    "CWD = Path.cwd().resolve()\n",
    "PROJECT_ROOT = CWD.parent if CWD.name == \"notebooks\" else CWD\n",
    "MODELS_DIR = PROJECT_ROOT / \"models\"\n",
    "MODELS_DIR.mkdir(parents=True, exist_ok=True)\n",
    "\n",
    "# Guardado\n",
    "model_path = MODELS_DIR / f\"baseline_{best_name}.joblib\"\n",
    "joblib.dump(best_pipe, model_path)\n",
    "print(f\"[save] {model_path}\")\n",
    "\n",
    "# Smoke test de carga y predicción (log-space)\n",
    "pipe_loaded = joblib.load(model_path)\n",
    "mini_pred_log = pipe_loaded.predict(test_clean.head(3))\n",
    "print(\"[check] pred.shape:\", mini_pred_log.shape)\n",
    "print(\"[check] sample pred (log):\", mini_pred_log[:3])\n"
   ]
  },
  {
   "cell_type": "code",
   "execution_count": 11,
   "id": "108a7dca",
   "metadata": {},
   "outputs": [
    {
     "name": "stdout",
     "output_type": "stream",
     "text": [
      "[save] /mnt/d/Data/0_Ordenado/LM/IA/fast-ia/proyectos/house-prices/models/feature_names_ElasticNetCV.csv | n_features=284\n"
     ]
    }
   ],
   "source": [
    "import numpy as np\n",
    "import pandas as pd\n",
    "\n",
    "pre = best_pipe.named_steps[\"prep\"]\n",
    "\n",
    "# Intento directo (sklearn >= 1.0)\n",
    "try:\n",
    "    feat_names = pre.get_feature_names_out()\n",
    "except Exception:\n",
    "    # Fallback si algún transformador no implementa get_feature_names_out\n",
    "    feat_names = []\n",
    "    for name, trans, cols in pre.transformers_:\n",
    "        if name == \"remainder\":\n",
    "            continue\n",
    "        if hasattr(trans, \"get_feature_names_out\"):\n",
    "            try:\n",
    "                fn = list(trans.get_feature_names_out(cols))\n",
    "            except Exception:\n",
    "                fn = [f\"{name}__{c}\" for c in cols]\n",
    "        else:\n",
    "            fn = [f\"{name}__{c}\" for c in cols]\n",
    "        feat_names.extend(fn)\n",
    "    feat_names = np.array(feat_names, dtype=object)\n",
    "\n",
    "FEATURES_CSV = MODELS_DIR / f\"feature_names_{best_name}.csv\"\n",
    "pd.Series(feat_names, name=\"feature\").to_csv(FEATURES_CSV, index=False)\n",
    "print(f\"[save] {FEATURES_CSV} | n_features={len(feat_names)}\")\n"
   ]
  },
  {
   "cell_type": "code",
   "execution_count": 12,
   "id": "21f65c3b",
   "metadata": {},
   "outputs": [
    {
     "name": "stdout",
     "output_type": "stream",
     "text": [
      "[save] /mnt/d/Data/0_Ordenado/LM/IA/fast-ia/proyectos/house-prices/models/metadata_ElasticNetCV.json\n"
     ]
    }
   ],
   "source": [
    "# === PASO 17.3 (FIX) — Guardar metadatos del experimento (JSON serializable) ===\n",
    "import json, platform, sys, sklearn, numpy as np, pandas as pd\n",
    "from datetime import datetime\n",
    "from pathlib import Path\n",
    "\n",
    "META_JSON = MODELS_DIR / f\"metadata_{best_name}.json\"\n",
    "\n",
    "# Conversor robusto: NumPy/Pandas -> tipos JSON\n",
    "def to_jsonable(o):\n",
    "    # NumPy escalares\n",
    "    if isinstance(o, (np.integer,)):\n",
    "        return int(o)\n",
    "    if isinstance(o, (np.floating,)):\n",
    "        return float(o)\n",
    "    if isinstance(o, (np.bool_,)):\n",
    "        return bool(o)\n",
    "    # NumPy arrays\n",
    "    if isinstance(o, (np.ndarray,)):\n",
    "        return o.tolist()\n",
    "    # Pandas\n",
    "    if isinstance(o, (pd.Series, pd.Index)):\n",
    "        return o.tolist()\n",
    "    # Sets u otros\n",
    "    if isinstance(o, set):\n",
    "        return list(o)\n",
    "    # Último recurso: string (para objetos no serializables)\n",
    "    return str(o)\n",
    "\n",
    "# Resultados CV (si existe la tabla)\n",
    "try:\n",
    "    cv_rows = res_df.to_dict(orient=\"records\")\n",
    "except Exception:\n",
    "    cv_rows = []\n",
    "\n",
    "# Hiperparámetros del modelo (puede incluir arrays -> se serializan con default=)\n",
    "try:\n",
    "    model_params = best_pipe.named_steps[\"model\"].get_params()\n",
    "except Exception:\n",
    "    model_params = {}\n",
    "\n",
    "# Listas de columnas (si están en memoria)\n",
    "safe = lambda v: v if isinstance(v, (list, dict)) else None\n",
    "meta_cols = {\n",
    "    \"num_cols\": safe(locals().get(\"num_cols\")),\n",
    "    \"ord_text_cols\": safe(locals().get(\"ord_text_cols\")),\n",
    "    \"cat_nom_cols\": safe(locals().get(\"cat_nom_cols\")),\n",
    "    \"ORD_MAP\": safe(locals().get(\"ORD_MAP\")),\n",
    "}\n",
    "\n",
    "metadata = {\n",
    "    \"timestamp\": datetime.now().isoformat(timespec=\"seconds\"),\n",
    "    \"system\": {\n",
    "        \"python\": sys.version.split()[0],\n",
    "        \"platform\": platform.platform(),\n",
    "        \"sklearn\": sklearn.__version__,\n",
    "        \"numpy\": np.__version__,\n",
    "        \"pandas\": pd.__version__,\n",
    "    },\n",
    "    \"cv\": {\n",
    "        \"strategy\": \"KFold\",\n",
    "        \"n_splits\": 5,\n",
    "        \"shuffle\": True,\n",
    "        \"random_state\": 42,\n",
    "        \"results\": cv_rows,  # media/std por modelo\n",
    "    },\n",
    "    \"data\": {\n",
    "        \"train_shape\": list(X.shape) if \"X\" in locals() else None,\n",
    "        \"test_shape\": list(test_clean.shape) if \"test_clean\" in locals() else None,\n",
    "        \"target\": \"SalePrice (entrenado en log1p)\",\n",
    "    },\n",
    "    \"pipeline\": {\n",
    "        \"best_name\": str(best_name),\n",
    "        \"model_class\": best_pipe.named_steps[\"model\"].__class__.__name__,\n",
    "        \"model_params\": model_params,         # <- puede tener arrays (se manejan con to_jsonable)\n",
    "        \"preprocess_type\": best_pipe.named_steps[\"prep\"].__class__.__name__,\n",
    "        \"columns\": meta_cols,\n",
    "    },\n",
    "}\n",
    "\n",
    "with open(META_JSON, \"w\", encoding=\"utf-8\") as f:\n",
    "    json.dump(metadata, f, ensure_ascii=False, indent=2, default=to_jsonable)\n",
    "\n",
    "print(f\"[save] {META_JSON}\")\n"
   ]
  },
  {
   "cell_type": "code",
   "execution_count": 13,
   "id": "7f644d75",
   "metadata": {},
   "outputs": [
    {
     "name": "stdout",
     "output_type": "stream",
     "text": [
      "[save] /mnt/d/Data/0_Ordenado/LM/IA/fast-ia/proyectos/house-prices/reports/model_card_ElasticNetCV.md\n"
     ]
    }
   ],
   "source": [
    "from datetime import datetime\n",
    "from pathlib import Path\n",
    "\n",
    "CARD = PROJECT_ROOT / \"reports\" / f\"model_card_{best_name}.md\"\n",
    "CARD.parent.mkdir(parents=True, exist_ok=True)\n",
    "\n",
    "card = f\"\"\"# Model Card — {best_name}\n",
    "Fecha: {datetime.now().strftime('%Y-%m-%d %H:%M')}\n",
    "\n",
    "## Objetivo\n",
    "Predecir SalePrice (House Prices — Kaggle). Entrenado en log1p(SalePrice).\n",
    "\n",
    "## Datos\n",
    "- Train limpio: data/processed/train_clean.csv (sin nulos)\n",
    "- Test limpio : data/processed/test_clean.csv (sin nulos)\n",
    "- Outliers removidos en train (2 casos en GrLivArea)\n",
    "\n",
    "## Preprocesamiento\n",
    "- OrdinalEncoder en: {locals().get('ord_text_cols', [])}\n",
    "- OneHotEncoder en nominales; StandardScaler en numéricas\n",
    "- Log1p en features sesgadas (según reports/skewed_feats.txt)\n",
    "- MSSubClass como categórica (string)\n",
    "\n",
    "## Validación y métrica\n",
    "- CV=5 (shuffle=True, seed=42)\n",
    "- Métrica: RMSE en log (≈ RMSLE)\n",
    "- Resultados CV (resumen): {locals().get('res_df').to_dict(orient='records') if 'res_df' in locals() else 'N/D'}\n",
    "\n",
    "## Modelo\n",
    "- {best_name} ({best_pipe.named_steps['model'].__class__.__name__})\n",
    "- Parámetros: ver models/metadata_{best_name}.json\n",
    "\n",
    "## Limitaciones y supuestos\n",
    "- Distribución y relaciones condicionadas por el dataset original\n",
    "- Transformaciones log1p pueden afectar interpretabilidad directa\n",
    "- One-Hot puede generar alta dimensionalidad\n",
    "\n",
    "## Uso previsto\n",
    "- Benchmark / baseline reproducible para la competencia\n",
    "- Base para mejorar con regularización/end-to-end/boosting\n",
    "\"\"\"\n",
    "CARD.write_text(card, encoding=\"utf-8\")\n",
    "print(f\"[save] {CARD}\")\n"
   ]
  },
  {
   "cell_type": "code",
   "execution_count": 14,
   "id": "9ffc85fa",
   "metadata": {},
   "outputs": [
    {
     "name": "stdout",
     "output_type": "stream",
     "text": [
      "[OK] reload + predict: (1459,) | min/max: 44542.192152338226 959914.0581070407\n"
     ]
    }
   ],
   "source": [
    "import joblib\n",
    "import numpy as np\n",
    "\n",
    "pipe_re = joblib.load(MODELS_DIR / f\"baseline_{best_name}.joblib\")\n",
    "pred_log_re = pipe_re.predict(test_clean)\n",
    "assert pred_log_re.shape[0] == test_clean.shape[0]\n",
    "pred_re = np.expm1(pred_log_re)\n",
    "print(\"[OK] reload + predict:\", pred_re.shape, \"| min/max:\", float(pred_re.min()), float(pred_re.max()))\n"
   ]
  }
 ],
 "metadata": {
  "kernelspec": {
   "display_name": "ia",
   "language": "python",
   "name": "python3"
  },
  "language_info": {
   "codemirror_mode": {
    "name": "ipython",
    "version": 3
   },
   "file_extension": ".py",
   "mimetype": "text/x-python",
   "name": "python",
   "nbconvert_exporter": "python",
   "pygments_lexer": "ipython3",
   "version": "3.10.14"
  }
 },
 "nbformat": 4,
 "nbformat_minor": 5
}
