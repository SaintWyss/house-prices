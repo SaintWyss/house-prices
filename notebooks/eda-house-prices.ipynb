    "Rutas relativas: todo dentro del repo (data/raw/, data/processed/, reports/figures/). Si guardamos archivos, crear carpetas antes para evitar OSError: non-existent directory.\n",
    "Figuras: guardar gráficos importantes en reports/figures/ (heatmap, outliers, hist de SalePrice)."
      "[cfg] FIGS_DIR      : /mnt/d/Data/0_Ordenado/LM/IA/fast-ia/proyectos/house-prices/reports/figures\n",
    "FIGS_DIR = PROJECT_ROOT / \"reports\" / \"figures\"\n",
      "[fig] guardado: /mnt/d/Data/0_Ordenado/LM/IA/fast-ia/proyectos/house-prices/reports/figures/hist_saleprice.png\n"
      "[fig] guardado: /mnt/d/Data/0_Ordenado/LM/IA/fast-ia/proyectos/house-prices/reports/figures/hist_saleprice_log.png\n"
      "[fig] guardado: /mnt/d/Data/0_Ordenado/LM/IA/fast-ia/proyectos/house-prices/reports/figures/qq_saleprice.png\n",
      "[fig] guardado: /mnt/d/Data/0_Ordenado/LM/IA/fast-ia/proyectos/house-prices/reports/figures/qq_saleprice_log.png\n"
      "[fig] guardado: /mnt/d/Data/0_Ordenado/LM/IA/fast-ia/proyectos/house-prices/reports/figures/heatmap_top_corr.png\n"
      "[fig] guardado: /mnt/d/Data/0_Ordenado/LM/IA/fast-ia/proyectos/house-prices/reports/figures/scatter_top3_vs_target.png\n"
      "[fig] guardado: /mnt/d/Data/0_Ordenado/LM/IA/fast-ia/proyectos/house-prices/reports/figures/bar_median_by_neighborhood.png\n"
      "[fig] guardado: /mnt/d/Data/0_Ordenado/LM/IA/fast-ia/proyectos/house-prices/reports/figures/boxplot_kitchenqual.png\n"
      "[fig] guardado: /mnt/d/Data/0_Ordenado/LM/IA/fast-ia/proyectos/house-prices/reports/figures/boxplot_overallqual.png\n"
      "[fig] guardado: /mnt/d/Data/0_Ordenado/LM/IA/fast-ia/proyectos/house-prices/reports/figures/scatter_grlivarea_vs_target.png\n"
    "FIGS_DIR = REPORTS_DIR / \"figures\"\n",
}